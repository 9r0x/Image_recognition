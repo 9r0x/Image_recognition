{
 "cells": [
  {
   "cell_type": "code",
   "execution_count": 13,
   "metadata": {},
   "outputs": [
    {
     "output_type": "stream",
     "name": "stderr",
     "text": "1: E999 SyntaxError: invalid syntax\nThe tensorboard extension is already loaded. To reload it, use:\n  %reload_ext tensorboard\nThe pycodestyle_magic extension is already loaded. To reload it, use:\n  %reload_ext pycodestyle_magic\n"
    }
   ],
   "source": [
    "import tensorflow as tf\n",
    "import PIL\n",
    "import matplotlib.pyplot as plt\n",
    "from tensorflow.keras.layers import Dense, BatchNormalization, LeakyReLU, Flatten\n",
    "from tensorflow.keras.layers import Reshape, Conv2DTranspose, Conv2D, Dropout\n",
    "from tensorflow.keras.optimizers import Adam\n",
    "\n",
    "%matplotlib inline\n",
    "%load_ext tensorboard\n",
    "%load_ext pycodestyle_magic"
   ]
  },
  {
   "cell_type": "code",
   "execution_count": 24,
   "metadata": {},
   "outputs": [],
   "source": [
    "%flake8_on --max_line_length 115\n",
    "\n",
    "BUFFLE_SIZE = 1000\n",
    "BATCH_SIZE = 30\n",
    "NOISE_DIM = 100\n",
    "EPOCHS = 5\n",
    "NUM_EXAMPLES = 16\n",
    "\n",
    "seed = tf.random.normal([NUM_EXAMPLES, NOISE_DIM])"
   ]
  },
  {
   "cell_type": "code",
   "execution_count": 3,
   "metadata": {},
   "outputs": [],
   "source": [
    "(images, labels), _ = tf.keras.datasets.mnist.load_data()\n",
    "images = images.reshape([images.shape[0], 28, 28, 1])\n",
    "images = tf.image.convert_image_dtype(images, tf.float32) * 2 - 1\n",
    "\n",
    "train_ds = tf.data.Dataset.from_tensor_slices(images).shuffle(BUFFLE_SIZE).batch(BATCH_SIZE)"
   ]
  },
  {
   "cell_type": "code",
   "execution_count": 4,
   "metadata": {},
   "outputs": [],
   "source": [
    "def make_generator_model():\n",
    "    model = tf.keras.Sequential()\n",
    "    model.add(Dense(7*7*256, use_bias=False, input_shape=(NOISE_DIM,)))\n",
    "    model.add(BatchNormalization())\n",
    "    model.add(LeakyReLU())\n",
    "\n",
    "    model.add(Reshape((7, 7, 256)))\n",
    "\n",
    "    model.add(Conv2DTranspose(128, (5, 5), strides=(1, 1), padding='same', use_bias=False))\n",
    "    model.add(BatchNormalization())\n",
    "    model.add(LeakyReLU())\n",
    "\n",
    "    model.add(Conv2DTranspose(64, (5, 5), strides=(2, 2), padding='same', use_bias=False))\n",
    "    model.add(BatchNormalization())\n",
    "    model.add(LeakyReLU())\n",
    "\n",
    "    model.add(Conv2DTranspose(1, (5, 5), strides=(2, 2), padding='same', use_bias=False, activation='tanh'))\n",
    "\n",
    "    return model\n",
    "\n",
    "\n",
    "def make_discriminator_model():\n",
    "    model = tf.keras.Sequential()\n",
    "    model.add(Conv2D(64, (5, 5), strides=(2, 2), padding='same', input_shape=[28, 28, 1]))\n",
    "    model.add(LeakyReLU())\n",
    "    model.add(Dropout(0.3))\n",
    "\n",
    "    model.add(Conv2D(128, (5, 5), strides=(2, 2), padding='same'))\n",
    "    model.add(LeakyReLU())\n",
    "    model.add(Dropout(0.3))\n",
    "\n",
    "    model.add(Flatten())\n",
    "    model.add(Dense(1))\n",
    "\n",
    "    return model\n",
    "\n",
    "generator = make_generator_model()\n",
    "discriminator = make_discriminator_model()"
   ]
  },
  {
   "cell_type": "code",
   "execution_count": null,
   "metadata": {},
   "outputs": [],
   "source": [
    "noise = tf.random.normal([1, NOISE_DIM])\n",
    "generated_image = generator(noise, training=False)\n",
    "decision = discriminator(generated_image)\n",
    "\n",
    "plt.imshow(tf.squeeze(generated_image), cmap='viridis')\n",
    "print(decision)"
   ]
  },
  {
   "cell_type": "code",
   "execution_count": 12,
   "metadata": {},
   "outputs": [],
   "source": [
    "cross_entropy = tf.keras.losses.BinaryCrossentropy(from_logits=True)\n",
    "\n",
    "\n",
    "def discriminator_loss(real_pred, fake_pred):\n",
    "    real_loss = cross_entropy(tf.ones_like(real_pred), real_pred)\n",
    "    fake_loss = cross_entropy(tf.zeros_like(fake_pred), fake_pred)\n",
    "\n",
    "    return real_loss + fake_loss\n",
    "    \n",
    "\n",
    "def generator_loss(fake_pred):\n",
    "    return cross_entropy(tf.ones_like(fake_pred), fake_pred)"
   ]
  },
  {
   "cell_type": "code",
   "execution_count": 27,
   "metadata": {},
   "outputs": [],
   "source": [
    "checkpoint_dir = './GAN_checkpoints'\n",
    "checkpoint_prex = checkpoint_dir + '/ckpt'\n",
    "checkpoint = tf.train.Checkpoint(generator_optimizer=Adam(1e-4),\n",
    "                                 discrimator_optimizer=Adam(1e-4),\n",
    "                                 generator=generator,\n",
    "                                 discriminator=discriminator)"
   ]
  },
  {
   "cell_type": "code",
   "execution_count": 19,
   "metadata": {},
   "outputs": [
    {
     "output_type": "execute_result",
     "data": {
      "text/plain": "'./GAN_checkpoints/ckpt'"
     },
     "metadata": {},
     "execution_count": 19
    }
   ],
   "source": [
    "checkpoint_prex"
   ]
  },
  {
   "cell_type": "code",
   "execution_count": 23,
   "metadata": {},
   "outputs": [
    {
     "output_type": "stream",
     "name": "stdout",
     "text": "1\nCPU times: user 115 µs, sys: 73 µs, total: 188 µs\nWall time: 145 µs\n"
    }
   ],
   "source": [
    "%%time\n",
    "print(1)"
   ]
  },
  {
   "cell_type": "code",
   "execution_count": null,
   "metadata": {},
   "outputs": [],
   "source": []
  }
 ],
 "metadata": {
  "kernelspec": {
   "display_name": "Python 3.7.7 64-bit",
   "language": "python",
   "name": "python37764bitbb5ee25fa60a4e9495c427f749aa4ee7"
  },
  "language_info": {
   "codemirror_mode": {
    "name": "ipython",
    "version": 3
   },
   "file_extension": ".py",
   "mimetype": "text/x-python",
   "name": "python",
   "nbconvert_exporter": "python",
   "pygments_lexer": "ipython3",
   "version": "3.7.7-final"
  }
 },
 "nbformat": 4,
 "nbformat_minor": 2
}